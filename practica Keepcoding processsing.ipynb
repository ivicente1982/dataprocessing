{
 "cells": [
  {
   "cell_type": "code",
   "execution_count": 9,
   "id": "2b7d8324",
   "metadata": {},
   "outputs": [],
   "source": [
    "import pandas as pd"
   ]
  },
  {
   "cell_type": "code",
   "execution_count": 10,
   "id": "2f293a4e",
   "metadata": {},
   "outputs": [],
   "source": [
    "wh2021=pd.read_csv('C:\\\\Users\\\\ignacio.vicente\\\\OneDrive - TresMares\\\\1. Curso Keepcoding\\\\8. Big data processing\\\\big-data-processing\\\\PROYECTO FINAL\\\\Datasets\\\\world-happiness-report-2021.csv')"
   ]
  },
  {
   "cell_type": "code",
   "execution_count": 11,
   "id": "3756fbe8",
   "metadata": {},
   "outputs": [
    {
     "data": {
      "text/html": [
       "<div>\n",
       "<style scoped>\n",
       "    .dataframe tbody tr th:only-of-type {\n",
       "        vertical-align: middle;\n",
       "    }\n",
       "\n",
       "    .dataframe tbody tr th {\n",
       "        vertical-align: top;\n",
       "    }\n",
       "\n",
       "    .dataframe thead th {\n",
       "        text-align: right;\n",
       "    }\n",
       "</style>\n",
       "<table border=\"1\" class=\"dataframe\">\n",
       "  <thead>\n",
       "    <tr style=\"text-align: right;\">\n",
       "      <th></th>\n",
       "      <th>Country name</th>\n",
       "      <th>Regional indicator</th>\n",
       "      <th>Ladder score</th>\n",
       "      <th>Standard error of ladder score</th>\n",
       "      <th>upperwhisker</th>\n",
       "      <th>lowerwhisker</th>\n",
       "      <th>Logged GDP per capita</th>\n",
       "      <th>Social support</th>\n",
       "      <th>Healthy life expectancy</th>\n",
       "      <th>Freedom to make life choices</th>\n",
       "      <th>Generosity</th>\n",
       "      <th>Perceptions of corruption</th>\n",
       "      <th>Ladder score in Dystopia</th>\n",
       "      <th>Explained by: Log GDP per capita</th>\n",
       "      <th>Explained by: Social support</th>\n",
       "      <th>Explained by: Healthy life expectancy</th>\n",
       "      <th>Explained by: Freedom to make life choices</th>\n",
       "      <th>Explained by: Generosity</th>\n",
       "      <th>Explained by: Perceptions of corruption</th>\n",
       "      <th>Dystopia + residual</th>\n",
       "    </tr>\n",
       "  </thead>\n",
       "  <tbody>\n",
       "    <tr>\n",
       "      <th>0</th>\n",
       "      <td>Finland</td>\n",
       "      <td>Western Europe</td>\n",
       "      <td>7.842</td>\n",
       "      <td>0.032</td>\n",
       "      <td>7.904</td>\n",
       "      <td>7.780</td>\n",
       "      <td>10.775</td>\n",
       "      <td>0.954</td>\n",
       "      <td>72.0</td>\n",
       "      <td>0.949</td>\n",
       "      <td>-0.098</td>\n",
       "      <td>0.186</td>\n",
       "      <td>2.43</td>\n",
       "      <td>1.446</td>\n",
       "      <td>1.106</td>\n",
       "      <td>0.741</td>\n",
       "      <td>0.691</td>\n",
       "      <td>0.124</td>\n",
       "      <td>0.481</td>\n",
       "      <td>3.253</td>\n",
       "    </tr>\n",
       "    <tr>\n",
       "      <th>1</th>\n",
       "      <td>Denmark</td>\n",
       "      <td>Western Europe</td>\n",
       "      <td>7.620</td>\n",
       "      <td>0.035</td>\n",
       "      <td>7.687</td>\n",
       "      <td>7.552</td>\n",
       "      <td>10.933</td>\n",
       "      <td>0.954</td>\n",
       "      <td>72.7</td>\n",
       "      <td>0.946</td>\n",
       "      <td>0.030</td>\n",
       "      <td>0.179</td>\n",
       "      <td>2.43</td>\n",
       "      <td>1.502</td>\n",
       "      <td>1.108</td>\n",
       "      <td>0.763</td>\n",
       "      <td>0.686</td>\n",
       "      <td>0.208</td>\n",
       "      <td>0.485</td>\n",
       "      <td>2.868</td>\n",
       "    </tr>\n",
       "    <tr>\n",
       "      <th>2</th>\n",
       "      <td>Switzerland</td>\n",
       "      <td>Western Europe</td>\n",
       "      <td>7.571</td>\n",
       "      <td>0.036</td>\n",
       "      <td>7.643</td>\n",
       "      <td>7.500</td>\n",
       "      <td>11.117</td>\n",
       "      <td>0.942</td>\n",
       "      <td>74.4</td>\n",
       "      <td>0.919</td>\n",
       "      <td>0.025</td>\n",
       "      <td>0.292</td>\n",
       "      <td>2.43</td>\n",
       "      <td>1.566</td>\n",
       "      <td>1.079</td>\n",
       "      <td>0.816</td>\n",
       "      <td>0.653</td>\n",
       "      <td>0.204</td>\n",
       "      <td>0.413</td>\n",
       "      <td>2.839</td>\n",
       "    </tr>\n",
       "    <tr>\n",
       "      <th>3</th>\n",
       "      <td>Iceland</td>\n",
       "      <td>Western Europe</td>\n",
       "      <td>7.554</td>\n",
       "      <td>0.059</td>\n",
       "      <td>7.670</td>\n",
       "      <td>7.438</td>\n",
       "      <td>10.878</td>\n",
       "      <td>0.983</td>\n",
       "      <td>73.0</td>\n",
       "      <td>0.955</td>\n",
       "      <td>0.160</td>\n",
       "      <td>0.673</td>\n",
       "      <td>2.43</td>\n",
       "      <td>1.482</td>\n",
       "      <td>1.172</td>\n",
       "      <td>0.772</td>\n",
       "      <td>0.698</td>\n",
       "      <td>0.293</td>\n",
       "      <td>0.170</td>\n",
       "      <td>2.967</td>\n",
       "    </tr>\n",
       "    <tr>\n",
       "      <th>4</th>\n",
       "      <td>Netherlands</td>\n",
       "      <td>Western Europe</td>\n",
       "      <td>7.464</td>\n",
       "      <td>0.027</td>\n",
       "      <td>7.518</td>\n",
       "      <td>7.410</td>\n",
       "      <td>10.932</td>\n",
       "      <td>0.942</td>\n",
       "      <td>72.4</td>\n",
       "      <td>0.913</td>\n",
       "      <td>0.175</td>\n",
       "      <td>0.338</td>\n",
       "      <td>2.43</td>\n",
       "      <td>1.501</td>\n",
       "      <td>1.079</td>\n",
       "      <td>0.753</td>\n",
       "      <td>0.647</td>\n",
       "      <td>0.302</td>\n",
       "      <td>0.384</td>\n",
       "      <td>2.798</td>\n",
       "    </tr>\n",
       "  </tbody>\n",
       "</table>\n",
       "</div>"
      ],
      "text/plain": [
       "  Country name Regional indicator  Ladder score  \\\n",
       "0      Finland     Western Europe         7.842   \n",
       "1      Denmark     Western Europe         7.620   \n",
       "2  Switzerland     Western Europe         7.571   \n",
       "3      Iceland     Western Europe         7.554   \n",
       "4  Netherlands     Western Europe         7.464   \n",
       "\n",
       "   Standard error of ladder score  upperwhisker  lowerwhisker  \\\n",
       "0                           0.032         7.904         7.780   \n",
       "1                           0.035         7.687         7.552   \n",
       "2                           0.036         7.643         7.500   \n",
       "3                           0.059         7.670         7.438   \n",
       "4                           0.027         7.518         7.410   \n",
       "\n",
       "   Logged GDP per capita  Social support  Healthy life expectancy  \\\n",
       "0                 10.775           0.954                     72.0   \n",
       "1                 10.933           0.954                     72.7   \n",
       "2                 11.117           0.942                     74.4   \n",
       "3                 10.878           0.983                     73.0   \n",
       "4                 10.932           0.942                     72.4   \n",
       "\n",
       "   Freedom to make life choices  Generosity  Perceptions of corruption  \\\n",
       "0                         0.949      -0.098                      0.186   \n",
       "1                         0.946       0.030                      0.179   \n",
       "2                         0.919       0.025                      0.292   \n",
       "3                         0.955       0.160                      0.673   \n",
       "4                         0.913       0.175                      0.338   \n",
       "\n",
       "   Ladder score in Dystopia  Explained by: Log GDP per capita  \\\n",
       "0                      2.43                             1.446   \n",
       "1                      2.43                             1.502   \n",
       "2                      2.43                             1.566   \n",
       "3                      2.43                             1.482   \n",
       "4                      2.43                             1.501   \n",
       "\n",
       "   Explained by: Social support  Explained by: Healthy life expectancy  \\\n",
       "0                         1.106                                  0.741   \n",
       "1                         1.108                                  0.763   \n",
       "2                         1.079                                  0.816   \n",
       "3                         1.172                                  0.772   \n",
       "4                         1.079                                  0.753   \n",
       "\n",
       "   Explained by: Freedom to make life choices  Explained by: Generosity  \\\n",
       "0                                       0.691                     0.124   \n",
       "1                                       0.686                     0.208   \n",
       "2                                       0.653                     0.204   \n",
       "3                                       0.698                     0.293   \n",
       "4                                       0.647                     0.302   \n",
       "\n",
       "   Explained by: Perceptions of corruption  Dystopia + residual  \n",
       "0                                    0.481                3.253  \n",
       "1                                    0.485                2.868  \n",
       "2                                    0.413                2.839  \n",
       "3                                    0.170                2.967  \n",
       "4                                    0.384                2.798  "
      ]
     },
     "execution_count": 11,
     "metadata": {},
     "output_type": "execute_result"
    }
   ],
   "source": [
    "wh2021.head(5)"
   ]
  },
  {
   "cell_type": "code",
   "execution_count": 12,
   "id": "27661a8e",
   "metadata": {},
   "outputs": [],
   "source": [
    "wh=pd.read_csv('C:\\\\Users\\\\ignacio.vicente\\\\OneDrive - TresMares\\\\1. Curso Keepcoding\\\\8. Big data processing\\\\big-data-processing\\\\PROYECTO FINAL\\\\Datasets\\\\world-happiness-report.csv')"
   ]
  },
  {
   "cell_type": "code",
   "execution_count": 13,
   "id": "0b7510fe",
   "metadata": {},
   "outputs": [
    {
     "data": {
      "text/html": [
       "<div>\n",
       "<style scoped>\n",
       "    .dataframe tbody tr th:only-of-type {\n",
       "        vertical-align: middle;\n",
       "    }\n",
       "\n",
       "    .dataframe tbody tr th {\n",
       "        vertical-align: top;\n",
       "    }\n",
       "\n",
       "    .dataframe thead th {\n",
       "        text-align: right;\n",
       "    }\n",
       "</style>\n",
       "<table border=\"1\" class=\"dataframe\">\n",
       "  <thead>\n",
       "    <tr style=\"text-align: right;\">\n",
       "      <th></th>\n",
       "      <th>Country name</th>\n",
       "      <th>year</th>\n",
       "      <th>Life Ladder</th>\n",
       "      <th>Log GDP per capita</th>\n",
       "      <th>Social support</th>\n",
       "      <th>Healthy life expectancy at birth</th>\n",
       "      <th>Freedom to make life choices</th>\n",
       "      <th>Generosity</th>\n",
       "      <th>Perceptions of corruption</th>\n",
       "      <th>Positive affect</th>\n",
       "      <th>Negative affect</th>\n",
       "    </tr>\n",
       "  </thead>\n",
       "  <tbody>\n",
       "    <tr>\n",
       "      <th>0</th>\n",
       "      <td>Afghanistan</td>\n",
       "      <td>2008</td>\n",
       "      <td>3.724</td>\n",
       "      <td>7.370</td>\n",
       "      <td>0.451</td>\n",
       "      <td>50.80</td>\n",
       "      <td>0.718</td>\n",
       "      <td>0.168</td>\n",
       "      <td>0.882</td>\n",
       "      <td>0.518</td>\n",
       "      <td>0.258</td>\n",
       "    </tr>\n",
       "    <tr>\n",
       "      <th>1</th>\n",
       "      <td>Afghanistan</td>\n",
       "      <td>2009</td>\n",
       "      <td>4.402</td>\n",
       "      <td>7.540</td>\n",
       "      <td>0.552</td>\n",
       "      <td>51.20</td>\n",
       "      <td>0.679</td>\n",
       "      <td>0.190</td>\n",
       "      <td>0.850</td>\n",
       "      <td>0.584</td>\n",
       "      <td>0.237</td>\n",
       "    </tr>\n",
       "    <tr>\n",
       "      <th>2</th>\n",
       "      <td>Afghanistan</td>\n",
       "      <td>2010</td>\n",
       "      <td>4.758</td>\n",
       "      <td>7.647</td>\n",
       "      <td>0.539</td>\n",
       "      <td>51.60</td>\n",
       "      <td>0.600</td>\n",
       "      <td>0.121</td>\n",
       "      <td>0.707</td>\n",
       "      <td>0.618</td>\n",
       "      <td>0.275</td>\n",
       "    </tr>\n",
       "    <tr>\n",
       "      <th>3</th>\n",
       "      <td>Afghanistan</td>\n",
       "      <td>2011</td>\n",
       "      <td>3.832</td>\n",
       "      <td>7.620</td>\n",
       "      <td>0.521</td>\n",
       "      <td>51.92</td>\n",
       "      <td>0.496</td>\n",
       "      <td>0.162</td>\n",
       "      <td>0.731</td>\n",
       "      <td>0.611</td>\n",
       "      <td>0.267</td>\n",
       "    </tr>\n",
       "    <tr>\n",
       "      <th>4</th>\n",
       "      <td>Afghanistan</td>\n",
       "      <td>2012</td>\n",
       "      <td>3.783</td>\n",
       "      <td>7.705</td>\n",
       "      <td>0.521</td>\n",
       "      <td>52.24</td>\n",
       "      <td>0.531</td>\n",
       "      <td>0.236</td>\n",
       "      <td>0.776</td>\n",
       "      <td>0.710</td>\n",
       "      <td>0.268</td>\n",
       "    </tr>\n",
       "  </tbody>\n",
       "</table>\n",
       "</div>"
      ],
      "text/plain": [
       "  Country name  year  Life Ladder  Log GDP per capita  Social support  \\\n",
       "0  Afghanistan  2008        3.724               7.370           0.451   \n",
       "1  Afghanistan  2009        4.402               7.540           0.552   \n",
       "2  Afghanistan  2010        4.758               7.647           0.539   \n",
       "3  Afghanistan  2011        3.832               7.620           0.521   \n",
       "4  Afghanistan  2012        3.783               7.705           0.521   \n",
       "\n",
       "   Healthy life expectancy at birth  Freedom to make life choices  Generosity  \\\n",
       "0                             50.80                         0.718       0.168   \n",
       "1                             51.20                         0.679       0.190   \n",
       "2                             51.60                         0.600       0.121   \n",
       "3                             51.92                         0.496       0.162   \n",
       "4                             52.24                         0.531       0.236   \n",
       "\n",
       "   Perceptions of corruption  Positive affect  Negative affect  \n",
       "0                      0.882            0.518            0.258  \n",
       "1                      0.850            0.584            0.237  \n",
       "2                      0.707            0.618            0.275  \n",
       "3                      0.731            0.611            0.267  \n",
       "4                      0.776            0.710            0.268  "
      ]
     },
     "execution_count": 13,
     "metadata": {},
     "output_type": "execute_result"
    }
   ],
   "source": [
    "wh.head(5)"
   ]
  },
  {
   "cell_type": "code",
   "execution_count": 14,
   "id": "3b733bc3",
   "metadata": {},
   "outputs": [],
   "source": [
    "# Pregunta 1. ¿Cuál es el país más feliz del mundo en 2021?.  \n",
    "\n",
    "#Nota: Nótese que este ejercicio no requiere transformación alguna, se puede hacer directamente con una pregunta al dataframe"
   ]
  },
  {
   "cell_type": "code",
   "execution_count": 15,
   "id": "cdd06963",
   "metadata": {},
   "outputs": [
    {
     "name": "stdout",
     "output_type": "stream",
     "text": [
      "Index(['Country name', 'Regional indicator', 'Ladder score',\n",
      "       'Standard error of ladder score', 'upperwhisker', 'lowerwhisker',\n",
      "       'Logged GDP per capita', 'Social support', 'Healthy life expectancy',\n",
      "       'Freedom to make life choices', 'Generosity',\n",
      "       'Perceptions of corruption', 'Ladder score in Dystopia',\n",
      "       'Explained by: Log GDP per capita', 'Explained by: Social support',\n",
      "       'Explained by: Healthy life expectancy',\n",
      "       'Explained by: Freedom to make life choices',\n",
      "       'Explained by: Generosity', 'Explained by: Perceptions of corruption',\n",
      "       'Dystopia + residual'],\n",
      "      dtype='object')\n"
     ]
    }
   ],
   "source": [
    "print(wh2021.columns)"
   ]
  },
  {
   "cell_type": "code",
   "execution_count": 27,
   "id": "5c24820d",
   "metadata": {},
   "outputs": [],
   "source": [
    "Felicidad_max_2021=wh2021.nlargest(1,'Ladder score')"
   ]
  },
  {
   "cell_type": "code",
   "execution_count": 33,
   "id": "fe44b687",
   "metadata": {},
   "outputs": [],
   "source": [
    "Nombre_max_2021=Felicidad_max_2021['Country name'].iloc[0]"
   ]
  },
  {
   "cell_type": "code",
   "execution_count": 34,
   "id": "32f506bf",
   "metadata": {},
   "outputs": [
    {
     "name": "stdout",
     "output_type": "stream",
     "text": [
      "El país más feliz del 2021 es: Finland\n"
     ]
    }
   ],
   "source": [
    "print(f\"El país más feliz del 2021 es: {Nombre_max_2021}\")"
   ]
  },
  {
   "cell_type": "code",
   "execution_count": 35,
   "id": "eefe4098",
   "metadata": {},
   "outputs": [],
   "source": [
    "#Pregunta 2. ¿Cuál es el país más feliz por continente en 2021? \n",
    "#nota: tampoco requiere fusionar las tablas, sólo trabajar con la primera."
   ]
  },
  {
   "cell_type": "code",
   "execution_count": 41,
   "id": "46697ec4",
   "metadata": {},
   "outputs": [],
   "source": [
    "continentes=wh2021.groupby('Regional indicator')['Ladder score'].idxmax()"
   ]
  },
  {
   "cell_type": "code",
   "execution_count": 43,
   "id": "163b593a",
   "metadata": {},
   "outputs": [],
   "source": [
    "pais_cont=wh2021.loc[continentes]"
   ]
  },
  {
   "cell_type": "code",
   "execution_count": 51,
   "id": "2cd78229",
   "metadata": {},
   "outputs": [],
   "source": [
    "pais_cont_resumen=pais_cont[['Country name','Regional indicator']]"
   ]
  },
  {
   "cell_type": "code",
   "execution_count": 125,
   "id": "a7a07486",
   "metadata": {},
   "outputs": [
    {
     "name": "stdout",
     "output_type": "stream",
     "text": [
      "El país más feliz del 2021 por continente es             Country name                 Regional indicator\n",
      "          Czech Republic         Central and Eastern Europe\n",
      "              Uzbekistan Commonwealth of Independent States\n",
      "Taiwan Province of China                          East Asia\n",
      "              Costa Rica        Latin America and Caribbean\n",
      "                  Israel       Middle East and North Africa\n",
      "             New Zealand              North America and ANZ\n",
      "                   Nepal                         South Asia\n",
      "               Singapore                     Southeast Asia\n",
      "               Mauritius                 Sub-Saharan Africa\n",
      "                 Finland                     Western Europe\n"
     ]
    }
   ],
   "source": [
    "print(f\"El país más feliz del 2021 por continente es {pais_cont_resumen.to_string(index=False)}\")"
   ]
  },
  {
   "cell_type": "code",
   "execution_count": null,
   "id": "3a65551c",
   "metadata": {},
   "outputs": [],
   "source": []
  },
  {
   "cell_type": "code",
   "execution_count": null,
   "id": "4cb2ec2e",
   "metadata": {},
   "outputs": [],
   "source": [
    "#pregunta 3. Cuál es el país que más veces ocupó la primera posición en el ranking de felicidad?\n",
    "#nota: ahora sí, primero tengo que fusionar ambas tablas de datos y homogeneizar los nombres y segundo, tratar de sacar una fórmula de maximización\n",
    "#nota 2: para el primer paso, he simplificado únicamente a los tres campos que se me iban a solicitar en los siguientes ejercicios\n",
    "#y he dejado caer el resto de campos\n",
    "#nota 3: en la formulación del ejercicio hay un typo. Solicita el GDP pero sólo tenemos el \"logged GDP per capita\" que es un \n",
    "#indicador distinto"
   ]
  },
  {
   "cell_type": "code",
   "execution_count": null,
   "id": "28e7764d",
   "metadata": {},
   "outputs": [],
   "source": []
  },
  {
   "cell_type": "code",
   "execution_count": null,
   "id": "6cb2903c",
   "metadata": {},
   "outputs": [],
   "source": []
  },
  {
   "cell_type": "code",
   "execution_count": 60,
   "id": "4d49ba59",
   "metadata": {},
   "outputs": [],
   "source": [
    "f2021=wh2021.drop(columns=['Regional indicator', \n",
    "       'Standard error of ladder score', 'upperwhisker', 'lowerwhisker',\n",
    "       'Social support', 'Freedom to make life choices', 'Generosity',\n",
    "       'Perceptions of corruption', 'Ladder score in Dystopia',\n",
    "       'Explained by: Log GDP per capita', 'Explained by: Social support',\n",
    "       'Explained by: Healthy life expectancy',\n",
    "       'Explained by: Freedom to make life choices',\n",
    "       'Explained by: Generosity', 'Explained by: Perceptions of corruption',\n",
    "       'Dystopia + residual']).rename(columns={'Ladder score':'felicidad','Logged GDP per capita':'GDP','Healthy life expectancy':'esperanza'})"
   ]
  },
  {
   "cell_type": "code",
   "execution_count": 61,
   "id": "ad198692",
   "metadata": {},
   "outputs": [
    {
     "data": {
      "text/html": [
       "<div>\n",
       "<style scoped>\n",
       "    .dataframe tbody tr th:only-of-type {\n",
       "        vertical-align: middle;\n",
       "    }\n",
       "\n",
       "    .dataframe tbody tr th {\n",
       "        vertical-align: top;\n",
       "    }\n",
       "\n",
       "    .dataframe thead th {\n",
       "        text-align: right;\n",
       "    }\n",
       "</style>\n",
       "<table border=\"1\" class=\"dataframe\">\n",
       "  <thead>\n",
       "    <tr style=\"text-align: right;\">\n",
       "      <th></th>\n",
       "      <th>Country name</th>\n",
       "      <th>felicidad</th>\n",
       "      <th>GDP</th>\n",
       "      <th>esperanza</th>\n",
       "    </tr>\n",
       "  </thead>\n",
       "  <tbody>\n",
       "    <tr>\n",
       "      <th>0</th>\n",
       "      <td>Finland</td>\n",
       "      <td>7.842</td>\n",
       "      <td>10.775</td>\n",
       "      <td>72.0</td>\n",
       "    </tr>\n",
       "    <tr>\n",
       "      <th>1</th>\n",
       "      <td>Denmark</td>\n",
       "      <td>7.620</td>\n",
       "      <td>10.933</td>\n",
       "      <td>72.7</td>\n",
       "    </tr>\n",
       "    <tr>\n",
       "      <th>2</th>\n",
       "      <td>Switzerland</td>\n",
       "      <td>7.571</td>\n",
       "      <td>11.117</td>\n",
       "      <td>74.4</td>\n",
       "    </tr>\n",
       "    <tr>\n",
       "      <th>3</th>\n",
       "      <td>Iceland</td>\n",
       "      <td>7.554</td>\n",
       "      <td>10.878</td>\n",
       "      <td>73.0</td>\n",
       "    </tr>\n",
       "    <tr>\n",
       "      <th>4</th>\n",
       "      <td>Netherlands</td>\n",
       "      <td>7.464</td>\n",
       "      <td>10.932</td>\n",
       "      <td>72.4</td>\n",
       "    </tr>\n",
       "  </tbody>\n",
       "</table>\n",
       "</div>"
      ],
      "text/plain": [
       "  Country name  felicidad     GDP  esperanza\n",
       "0      Finland      7.842  10.775       72.0\n",
       "1      Denmark      7.620  10.933       72.7\n",
       "2  Switzerland      7.571  11.117       74.4\n",
       "3      Iceland      7.554  10.878       73.0\n",
       "4  Netherlands      7.464  10.932       72.4"
      ]
     },
     "execution_count": 61,
     "metadata": {},
     "output_type": "execute_result"
    }
   ],
   "source": [
    "f2021.head(5)"
   ]
  },
  {
   "cell_type": "code",
   "execution_count": 62,
   "id": "304105da",
   "metadata": {},
   "outputs": [],
   "source": [
    "f2021.insert(1,'year',2021)"
   ]
  },
  {
   "cell_type": "code",
   "execution_count": 63,
   "id": "f99a5155",
   "metadata": {},
   "outputs": [
    {
     "data": {
      "text/html": [
       "<div>\n",
       "<style scoped>\n",
       "    .dataframe tbody tr th:only-of-type {\n",
       "        vertical-align: middle;\n",
       "    }\n",
       "\n",
       "    .dataframe tbody tr th {\n",
       "        vertical-align: top;\n",
       "    }\n",
       "\n",
       "    .dataframe thead th {\n",
       "        text-align: right;\n",
       "    }\n",
       "</style>\n",
       "<table border=\"1\" class=\"dataframe\">\n",
       "  <thead>\n",
       "    <tr style=\"text-align: right;\">\n",
       "      <th></th>\n",
       "      <th>Country name</th>\n",
       "      <th>year</th>\n",
       "      <th>felicidad</th>\n",
       "      <th>GDP</th>\n",
       "      <th>esperanza</th>\n",
       "    </tr>\n",
       "  </thead>\n",
       "  <tbody>\n",
       "    <tr>\n",
       "      <th>0</th>\n",
       "      <td>Finland</td>\n",
       "      <td>2021</td>\n",
       "      <td>7.842</td>\n",
       "      <td>10.775</td>\n",
       "      <td>72.0</td>\n",
       "    </tr>\n",
       "    <tr>\n",
       "      <th>1</th>\n",
       "      <td>Denmark</td>\n",
       "      <td>2021</td>\n",
       "      <td>7.620</td>\n",
       "      <td>10.933</td>\n",
       "      <td>72.7</td>\n",
       "    </tr>\n",
       "    <tr>\n",
       "      <th>2</th>\n",
       "      <td>Switzerland</td>\n",
       "      <td>2021</td>\n",
       "      <td>7.571</td>\n",
       "      <td>11.117</td>\n",
       "      <td>74.4</td>\n",
       "    </tr>\n",
       "    <tr>\n",
       "      <th>3</th>\n",
       "      <td>Iceland</td>\n",
       "      <td>2021</td>\n",
       "      <td>7.554</td>\n",
       "      <td>10.878</td>\n",
       "      <td>73.0</td>\n",
       "    </tr>\n",
       "    <tr>\n",
       "      <th>4</th>\n",
       "      <td>Netherlands</td>\n",
       "      <td>2021</td>\n",
       "      <td>7.464</td>\n",
       "      <td>10.932</td>\n",
       "      <td>72.4</td>\n",
       "    </tr>\n",
       "  </tbody>\n",
       "</table>\n",
       "</div>"
      ],
      "text/plain": [
       "  Country name  year  felicidad     GDP  esperanza\n",
       "0      Finland  2021      7.842  10.775       72.0\n",
       "1      Denmark  2021      7.620  10.933       72.7\n",
       "2  Switzerland  2021      7.571  11.117       74.4\n",
       "3      Iceland  2021      7.554  10.878       73.0\n",
       "4  Netherlands  2021      7.464  10.932       72.4"
      ]
     },
     "execution_count": 63,
     "metadata": {},
     "output_type": "execute_result"
    }
   ],
   "source": [
    "f2021.head(5)"
   ]
  },
  {
   "cell_type": "code",
   "execution_count": 55,
   "id": "42277512",
   "metadata": {},
   "outputs": [
    {
     "name": "stdout",
     "output_type": "stream",
     "text": [
      "Index(['Country name', 'year', 'Life Ladder', 'Log GDP per capita',\n",
      "       'Social support', 'Healthy life expectancy at birth',\n",
      "       'Freedom to make life choices', 'Generosity',\n",
      "       'Perceptions of corruption', 'Positive affect', 'Negative affect'],\n",
      "      dtype='object')\n"
     ]
    }
   ],
   "source": [
    "print(wh.columns)"
   ]
  },
  {
   "cell_type": "code",
   "execution_count": 69,
   "id": "f62f27b4",
   "metadata": {},
   "outputs": [],
   "source": [
    "f=wh.drop(columns=['Social support','Freedom to make life choices', 'Generosity',\n",
    "       'Perceptions of corruption', 'Positive affect', 'Negative affect']).rename(columns={'Life Ladder':'felicidad', 'Log GDP per capita':'GDP','Healthy life expectancy at birth':'esperanza'})"
   ]
  },
  {
   "cell_type": "code",
   "execution_count": 70,
   "id": "e6f9f7e1",
   "metadata": {},
   "outputs": [
    {
     "data": {
      "text/html": [
       "<div>\n",
       "<style scoped>\n",
       "    .dataframe tbody tr th:only-of-type {\n",
       "        vertical-align: middle;\n",
       "    }\n",
       "\n",
       "    .dataframe tbody tr th {\n",
       "        vertical-align: top;\n",
       "    }\n",
       "\n",
       "    .dataframe thead th {\n",
       "        text-align: right;\n",
       "    }\n",
       "</style>\n",
       "<table border=\"1\" class=\"dataframe\">\n",
       "  <thead>\n",
       "    <tr style=\"text-align: right;\">\n",
       "      <th></th>\n",
       "      <th>Country name</th>\n",
       "      <th>year</th>\n",
       "      <th>felicidad</th>\n",
       "      <th>GDP</th>\n",
       "      <th>esperanza</th>\n",
       "    </tr>\n",
       "  </thead>\n",
       "  <tbody>\n",
       "    <tr>\n",
       "      <th>0</th>\n",
       "      <td>Afghanistan</td>\n",
       "      <td>2008</td>\n",
       "      <td>3.724</td>\n",
       "      <td>7.370</td>\n",
       "      <td>50.80</td>\n",
       "    </tr>\n",
       "    <tr>\n",
       "      <th>1</th>\n",
       "      <td>Afghanistan</td>\n",
       "      <td>2009</td>\n",
       "      <td>4.402</td>\n",
       "      <td>7.540</td>\n",
       "      <td>51.20</td>\n",
       "    </tr>\n",
       "    <tr>\n",
       "      <th>2</th>\n",
       "      <td>Afghanistan</td>\n",
       "      <td>2010</td>\n",
       "      <td>4.758</td>\n",
       "      <td>7.647</td>\n",
       "      <td>51.60</td>\n",
       "    </tr>\n",
       "    <tr>\n",
       "      <th>3</th>\n",
       "      <td>Afghanistan</td>\n",
       "      <td>2011</td>\n",
       "      <td>3.832</td>\n",
       "      <td>7.620</td>\n",
       "      <td>51.92</td>\n",
       "    </tr>\n",
       "    <tr>\n",
       "      <th>4</th>\n",
       "      <td>Afghanistan</td>\n",
       "      <td>2012</td>\n",
       "      <td>3.783</td>\n",
       "      <td>7.705</td>\n",
       "      <td>52.24</td>\n",
       "    </tr>\n",
       "  </tbody>\n",
       "</table>\n",
       "</div>"
      ],
      "text/plain": [
       "  Country name  year  felicidad    GDP  esperanza\n",
       "0  Afghanistan  2008      3.724  7.370      50.80\n",
       "1  Afghanistan  2009      4.402  7.540      51.20\n",
       "2  Afghanistan  2010      4.758  7.647      51.60\n",
       "3  Afghanistan  2011      3.832  7.620      51.92\n",
       "4  Afghanistan  2012      3.783  7.705      52.24"
      ]
     },
     "execution_count": 70,
     "metadata": {},
     "output_type": "execute_result"
    }
   ],
   "source": [
    "f.head(5)"
   ]
  },
  {
   "cell_type": "code",
   "execution_count": 72,
   "id": "976dd0c7",
   "metadata": {},
   "outputs": [],
   "source": [
    "whjoin=pd.concat([f2021,f])"
   ]
  },
  {
   "cell_type": "code",
   "execution_count": 73,
   "id": "40afb3ef",
   "metadata": {},
   "outputs": [
    {
     "data": {
      "text/html": [
       "<div>\n",
       "<style scoped>\n",
       "    .dataframe tbody tr th:only-of-type {\n",
       "        vertical-align: middle;\n",
       "    }\n",
       "\n",
       "    .dataframe tbody tr th {\n",
       "        vertical-align: top;\n",
       "    }\n",
       "\n",
       "    .dataframe thead th {\n",
       "        text-align: right;\n",
       "    }\n",
       "</style>\n",
       "<table border=\"1\" class=\"dataframe\">\n",
       "  <thead>\n",
       "    <tr style=\"text-align: right;\">\n",
       "      <th></th>\n",
       "      <th>Country name</th>\n",
       "      <th>year</th>\n",
       "      <th>felicidad</th>\n",
       "      <th>GDP</th>\n",
       "      <th>esperanza</th>\n",
       "    </tr>\n",
       "  </thead>\n",
       "  <tbody>\n",
       "    <tr>\n",
       "      <th>0</th>\n",
       "      <td>Finland</td>\n",
       "      <td>2021</td>\n",
       "      <td>7.842</td>\n",
       "      <td>10.775</td>\n",
       "      <td>72.0</td>\n",
       "    </tr>\n",
       "    <tr>\n",
       "      <th>1</th>\n",
       "      <td>Denmark</td>\n",
       "      <td>2021</td>\n",
       "      <td>7.620</td>\n",
       "      <td>10.933</td>\n",
       "      <td>72.7</td>\n",
       "    </tr>\n",
       "    <tr>\n",
       "      <th>2</th>\n",
       "      <td>Switzerland</td>\n",
       "      <td>2021</td>\n",
       "      <td>7.571</td>\n",
       "      <td>11.117</td>\n",
       "      <td>74.4</td>\n",
       "    </tr>\n",
       "    <tr>\n",
       "      <th>3</th>\n",
       "      <td>Iceland</td>\n",
       "      <td>2021</td>\n",
       "      <td>7.554</td>\n",
       "      <td>10.878</td>\n",
       "      <td>73.0</td>\n",
       "    </tr>\n",
       "    <tr>\n",
       "      <th>4</th>\n",
       "      <td>Netherlands</td>\n",
       "      <td>2021</td>\n",
       "      <td>7.464</td>\n",
       "      <td>10.932</td>\n",
       "      <td>72.4</td>\n",
       "    </tr>\n",
       "  </tbody>\n",
       "</table>\n",
       "</div>"
      ],
      "text/plain": [
       "  Country name  year  felicidad     GDP  esperanza\n",
       "0      Finland  2021      7.842  10.775       72.0\n",
       "1      Denmark  2021      7.620  10.933       72.7\n",
       "2  Switzerland  2021      7.571  11.117       74.4\n",
       "3      Iceland  2021      7.554  10.878       73.0\n",
       "4  Netherlands  2021      7.464  10.932       72.4"
      ]
     },
     "execution_count": 73,
     "metadata": {},
     "output_type": "execute_result"
    }
   ],
   "source": [
    "whjoin.head(5)"
   ]
  },
  {
   "cell_type": "code",
   "execution_count": 93,
   "id": "98a84808",
   "metadata": {},
   "outputs": [],
   "source": [
    "whjoin_ordenado=whjoin.sort_values(by='felicidad',ascending=False).groupby('year')"
   ]
  },
  {
   "cell_type": "code",
   "execution_count": 108,
   "id": "699b63c4",
   "metadata": {},
   "outputs": [
    {
     "data": {
      "text/html": [
       "<div>\n",
       "<style scoped>\n",
       "    .dataframe tbody tr th:only-of-type {\n",
       "        vertical-align: middle;\n",
       "    }\n",
       "\n",
       "    .dataframe tbody tr th {\n",
       "        vertical-align: top;\n",
       "    }\n",
       "\n",
       "    .dataframe thead th {\n",
       "        text-align: right;\n",
       "    }\n",
       "</style>\n",
       "<table border=\"1\" class=\"dataframe\">\n",
       "  <thead>\n",
       "    <tr style=\"text-align: right;\">\n",
       "      <th></th>\n",
       "      <th>Country name</th>\n",
       "      <th>year</th>\n",
       "      <th>felicidad</th>\n",
       "      <th>GDP</th>\n",
       "      <th>esperanza</th>\n",
       "    </tr>\n",
       "  </thead>\n",
       "  <tbody>\n",
       "    <tr>\n",
       "      <th>449</th>\n",
       "      <td>Denmark</td>\n",
       "      <td>2005</td>\n",
       "      <td>8.019</td>\n",
       "      <td>10.851</td>\n",
       "      <td>69.60</td>\n",
       "    </tr>\n",
       "    <tr>\n",
       "      <th>451</th>\n",
       "      <td>Denmark</td>\n",
       "      <td>2008</td>\n",
       "      <td>7.971</td>\n",
       "      <td>10.880</td>\n",
       "      <td>70.08</td>\n",
       "    </tr>\n",
       "    <tr>\n",
       "      <th>563</th>\n",
       "      <td>Finland</td>\n",
       "      <td>2020</td>\n",
       "      <td>7.889</td>\n",
       "      <td>10.750</td>\n",
       "      <td>72.10</td>\n",
       "    </tr>\n",
       "    <tr>\n",
       "      <th>561</th>\n",
       "      <td>Finland</td>\n",
       "      <td>2018</td>\n",
       "      <td>7.858</td>\n",
       "      <td>10.783</td>\n",
       "      <td>71.90</td>\n",
       "    </tr>\n",
       "    <tr>\n",
       "      <th>0</th>\n",
       "      <td>Finland</td>\n",
       "      <td>2021</td>\n",
       "      <td>7.842</td>\n",
       "      <td>10.775</td>\n",
       "      <td>72.00</td>\n",
       "    </tr>\n",
       "    <tr>\n",
       "      <th>...</th>\n",
       "      <td>...</td>\n",
       "      <td>...</td>\n",
       "      <td>...</td>\n",
       "      <td>...</td>\n",
       "      <td>...</td>\n",
       "    </tr>\n",
       "    <tr>\n",
       "      <th>396</th>\n",
       "      <td>Costa Rica</td>\n",
       "      <td>2006</td>\n",
       "      <td>7.082</td>\n",
       "      <td>9.565</td>\n",
       "      <td>69.94</td>\n",
       "    </tr>\n",
       "    <tr>\n",
       "      <th>1467</th>\n",
       "      <td>Saudi Arabia</td>\n",
       "      <td>2005</td>\n",
       "      <td>7.080</td>\n",
       "      <td>10.699</td>\n",
       "      <td>63.50</td>\n",
       "    </tr>\n",
       "    <tr>\n",
       "      <th>788</th>\n",
       "      <td>Ireland</td>\n",
       "      <td>2009</td>\n",
       "      <td>7.046</td>\n",
       "      <td>10.866</td>\n",
       "      <td>71.16</td>\n",
       "    </tr>\n",
       "    <tr>\n",
       "      <th>1342</th>\n",
       "      <td>Panama</td>\n",
       "      <td>2009</td>\n",
       "      <td>7.034</td>\n",
       "      <td>9.930</td>\n",
       "      <td>68.20</td>\n",
       "    </tr>\n",
       "    <tr>\n",
       "      <th>1808</th>\n",
       "      <td>United Arab Emirates</td>\n",
       "      <td>2006</td>\n",
       "      <td>6.734</td>\n",
       "      <td>11.367</td>\n",
       "      <td>65.92</td>\n",
       "    </tr>\n",
       "  </tbody>\n",
       "</table>\n",
       "<p>170 rows × 5 columns</p>\n",
       "</div>"
      ],
      "text/plain": [
       "              Country name  year  felicidad     GDP  esperanza\n",
       "449                Denmark  2005      8.019  10.851      69.60\n",
       "451                Denmark  2008      7.971  10.880      70.08\n",
       "563                Finland  2020      7.889  10.750      72.10\n",
       "561                Finland  2018      7.858  10.783      71.90\n",
       "0                  Finland  2021      7.842  10.775      72.00\n",
       "...                    ...   ...        ...     ...        ...\n",
       "396             Costa Rica  2006      7.082   9.565      69.94\n",
       "1467          Saudi Arabia  2005      7.080  10.699      63.50\n",
       "788                Ireland  2009      7.046  10.866      71.16\n",
       "1342                Panama  2009      7.034   9.930      68.20\n",
       "1808  United Arab Emirates  2006      6.734  11.367      65.92\n",
       "\n",
       "[170 rows x 5 columns]"
      ]
     },
     "execution_count": 108,
     "metadata": {},
     "output_type": "execute_result"
    }
   ],
   "source": [
    "whjoin_ordenado.head(10)"
   ]
  },
  {
   "cell_type": "code",
   "execution_count": 98,
   "id": "41831e00",
   "metadata": {},
   "outputs": [],
   "source": [
    "ranking=whjoin.groupby(['year'])['felicidad'].idxmax()"
   ]
  },
  {
   "cell_type": "code",
   "execution_count": 100,
   "id": "5b4ed457",
   "metadata": {},
   "outputs": [],
   "source": [
    "ranking_OK=whjoin.loc[ranking].sort_values(by=['year'])"
   ]
  },
  {
   "cell_type": "code",
   "execution_count": 106,
   "id": "95d632fc",
   "metadata": {},
   "outputs": [
    {
     "name": "stdout",
     "output_type": "stream",
     "text": [
      "     Country name  year  felicidad     GDP  esperanza\n",
      "449       Denmark  2005      8.019  10.851      69.60\n",
      "551       Finland  2006      7.672  10.745      69.76\n",
      "450       Denmark  2007      7.834  10.891      69.92\n",
      "0     Afghanistan  2008      3.724   7.370      50.80\n",
      "451       Denmark  2008      7.971  10.880      70.08\n",
      "452       Denmark  2009      7.683  10.824      70.24\n",
      "453       Denmark  2010      7.771  10.839      70.40\n",
      "454       Denmark  2011      7.788  10.848      70.62\n",
      "1654  Switzerland  2012      7.776  11.079      72.78\n",
      "300        Canada  2013      7.594  10.757      72.68\n",
      "457       Denmark  2014      7.508  10.862      71.28\n",
      "1304       Norway  2015      7.603  11.033      72.90\n",
      "559       Finland  2016      7.660  10.740      71.70\n",
      "560       Finland  2017      7.788  10.768      71.80\n",
      "561       Finland  2018      7.858  10.783      71.90\n",
      "562       Finland  2019      7.780  10.792      72.00\n",
      "563       Finland  2020      7.889  10.750      72.10\n",
      "0         Finland  2021      7.842  10.775      72.00\n"
     ]
    }
   ],
   "source": [
    "print(ranking_OK)"
   ]
  },
  {
   "cell_type": "code",
   "execution_count": 119,
   "id": "ff69c672",
   "metadata": {},
   "outputs": [],
   "source": [
    "pais_OK=ranking_OK.mode().iloc[0]"
   ]
  },
  {
   "cell_type": "code",
   "execution_count": 121,
   "id": "8bf44982",
   "metadata": {},
   "outputs": [
    {
     "name": "stdout",
     "output_type": "stream",
     "text": [
      "Country name    Denmark\n",
      "Name: 0, dtype: object\n"
     ]
    }
   ],
   "source": [
    "print(pais_OK[['Country name']])"
   ]
  },
  {
   "cell_type": "code",
   "execution_count": 124,
   "id": "fe403b69",
   "metadata": {},
   "outputs": [
    {
     "name": "stdout",
     "output_type": "stream",
     "text": [
      "el país que más veces ocupó la primera posición fue Denmark\n"
     ]
    }
   ],
   "source": [
    "print(f\"el país que más veces ocupó la primera posición fue {pais_OK [['Country name']].to_string(index=False)}\" )"
   ]
  },
  {
   "cell_type": "code",
   "execution_count": null,
   "id": "be279ac8",
   "metadata": {},
   "outputs": [],
   "source": [
    "#Pregunta 4 ¿Qué puesto de felicidad tiene el país con mayor GDP del 2020?"
   ]
  },
  {
   "cell_type": "code",
   "execution_count": 126,
   "id": "1b32897d",
   "metadata": {},
   "outputs": [],
   "source": [
    "f2020=f.query('year==2020')"
   ]
  },
  {
   "cell_type": "code",
   "execution_count": 153,
   "id": "c10ced09",
   "metadata": {},
   "outputs": [],
   "source": [
    "f2020o=f2020.sort_values(by='felicidad',ascending=False)"
   ]
  },
  {
   "cell_type": "code",
   "execution_count": 154,
   "id": "18d5245e",
   "metadata": {},
   "outputs": [
    {
     "data": {
      "text/html": [
       "<div>\n",
       "<style scoped>\n",
       "    .dataframe tbody tr th:only-of-type {\n",
       "        vertical-align: middle;\n",
       "    }\n",
       "\n",
       "    .dataframe tbody tr th {\n",
       "        vertical-align: top;\n",
       "    }\n",
       "\n",
       "    .dataframe thead th {\n",
       "        text-align: right;\n",
       "    }\n",
       "</style>\n",
       "<table border=\"1\" class=\"dataframe\">\n",
       "  <thead>\n",
       "    <tr style=\"text-align: right;\">\n",
       "      <th></th>\n",
       "      <th>Country name</th>\n",
       "      <th>year</th>\n",
       "      <th>felicidad</th>\n",
       "      <th>GDP</th>\n",
       "      <th>esperanza</th>\n",
       "      <th>rank</th>\n",
       "    </tr>\n",
       "  </thead>\n",
       "  <tbody>\n",
       "    <tr>\n",
       "      <th>563</th>\n",
       "      <td>Finland</td>\n",
       "      <td>2020</td>\n",
       "      <td>7.889</td>\n",
       "      <td>10.750</td>\n",
       "      <td>72.1</td>\n",
       "      <td>29.0</td>\n",
       "    </tr>\n",
       "    <tr>\n",
       "      <th>731</th>\n",
       "      <td>Iceland</td>\n",
       "      <td>2020</td>\n",
       "      <td>7.575</td>\n",
       "      <td>10.824</td>\n",
       "      <td>73.0</td>\n",
       "      <td>37.0</td>\n",
       "    </tr>\n",
       "    <tr>\n",
       "      <th>463</th>\n",
       "      <td>Denmark</td>\n",
       "      <td>2020</td>\n",
       "      <td>7.515</td>\n",
       "      <td>10.910</td>\n",
       "      <td>73.0</td>\n",
       "      <td>22.0</td>\n",
       "    </tr>\n",
       "    <tr>\n",
       "      <th>1661</th>\n",
       "      <td>Switzerland</td>\n",
       "      <td>2020</td>\n",
       "      <td>7.508</td>\n",
       "      <td>11.081</td>\n",
       "      <td>74.7</td>\n",
       "      <td>80.0</td>\n",
       "    </tr>\n",
       "    <tr>\n",
       "      <th>1224</th>\n",
       "      <td>Netherlands</td>\n",
       "      <td>2020</td>\n",
       "      <td>7.504</td>\n",
       "      <td>10.901</td>\n",
       "      <td>72.5</td>\n",
       "      <td>63.0</td>\n",
       "    </tr>\n",
       "  </tbody>\n",
       "</table>\n",
       "</div>"
      ],
      "text/plain": [
       "     Country name  year  felicidad     GDP  esperanza  rank\n",
       "563       Finland  2020      7.889  10.750       72.1  29.0\n",
       "731       Iceland  2020      7.575  10.824       73.0  37.0\n",
       "463       Denmark  2020      7.515  10.910       73.0  22.0\n",
       "1661  Switzerland  2020      7.508  11.081       74.7  80.0\n",
       "1224  Netherlands  2020      7.504  10.901       72.5  63.0"
      ]
     },
     "execution_count": 154,
     "metadata": {},
     "output_type": "execute_result"
    }
   ],
   "source": [
    "f2020o.head(5)"
   ]
  },
  {
   "cell_type": "code",
   "execution_count": 158,
   "id": "27e6c63d",
   "metadata": {},
   "outputs": [],
   "source": [
    "f2020o['rank_felicidad']=f2020o['felicidad'].rank(ascending=False)"
   ]
  },
  {
   "cell_type": "code",
   "execution_count": 159,
   "id": "3ab345be",
   "metadata": {},
   "outputs": [
    {
     "data": {
      "text/html": [
       "<div>\n",
       "<style scoped>\n",
       "    .dataframe tbody tr th:only-of-type {\n",
       "        vertical-align: middle;\n",
       "    }\n",
       "\n",
       "    .dataframe tbody tr th {\n",
       "        vertical-align: top;\n",
       "    }\n",
       "\n",
       "    .dataframe thead th {\n",
       "        text-align: right;\n",
       "    }\n",
       "</style>\n",
       "<table border=\"1\" class=\"dataframe\">\n",
       "  <thead>\n",
       "    <tr style=\"text-align: right;\">\n",
       "      <th></th>\n",
       "      <th>Country name</th>\n",
       "      <th>year</th>\n",
       "      <th>felicidad</th>\n",
       "      <th>GDP</th>\n",
       "      <th>esperanza</th>\n",
       "      <th>rank</th>\n",
       "      <th>rank_GDP</th>\n",
       "      <th>rank_felicidad</th>\n",
       "    </tr>\n",
       "  </thead>\n",
       "  <tbody>\n",
       "    <tr>\n",
       "      <th>563</th>\n",
       "      <td>Finland</td>\n",
       "      <td>2020</td>\n",
       "      <td>7.889</td>\n",
       "      <td>10.750</td>\n",
       "      <td>72.1</td>\n",
       "      <td>29.0</td>\n",
       "      <td>14.0</td>\n",
       "      <td>1.0</td>\n",
       "    </tr>\n",
       "    <tr>\n",
       "      <th>731</th>\n",
       "      <td>Iceland</td>\n",
       "      <td>2020</td>\n",
       "      <td>7.575</td>\n",
       "      <td>10.824</td>\n",
       "      <td>73.0</td>\n",
       "      <td>37.0</td>\n",
       "      <td>11.0</td>\n",
       "      <td>2.0</td>\n",
       "    </tr>\n",
       "    <tr>\n",
       "      <th>463</th>\n",
       "      <td>Denmark</td>\n",
       "      <td>2020</td>\n",
       "      <td>7.515</td>\n",
       "      <td>10.910</td>\n",
       "      <td>73.0</td>\n",
       "      <td>22.0</td>\n",
       "      <td>6.0</td>\n",
       "      <td>3.0</td>\n",
       "    </tr>\n",
       "    <tr>\n",
       "      <th>1661</th>\n",
       "      <td>Switzerland</td>\n",
       "      <td>2020</td>\n",
       "      <td>7.508</td>\n",
       "      <td>11.081</td>\n",
       "      <td>74.7</td>\n",
       "      <td>80.0</td>\n",
       "      <td>2.0</td>\n",
       "      <td>4.0</td>\n",
       "    </tr>\n",
       "    <tr>\n",
       "      <th>1224</th>\n",
       "      <td>Netherlands</td>\n",
       "      <td>2020</td>\n",
       "      <td>7.504</td>\n",
       "      <td>10.901</td>\n",
       "      <td>72.5</td>\n",
       "      <td>63.0</td>\n",
       "      <td>7.0</td>\n",
       "      <td>5.0</td>\n",
       "    </tr>\n",
       "  </tbody>\n",
       "</table>\n",
       "</div>"
      ],
      "text/plain": [
       "     Country name  year  felicidad     GDP  esperanza  rank  rank_GDP  \\\n",
       "563       Finland  2020      7.889  10.750       72.1  29.0      14.0   \n",
       "731       Iceland  2020      7.575  10.824       73.0  37.0      11.0   \n",
       "463       Denmark  2020      7.515  10.910       73.0  22.0       6.0   \n",
       "1661  Switzerland  2020      7.508  11.081       74.7  80.0       2.0   \n",
       "1224  Netherlands  2020      7.504  10.901       72.5  63.0       7.0   \n",
       "\n",
       "      rank_felicidad  \n",
       "563              1.0  \n",
       "731              2.0  \n",
       "463              3.0  \n",
       "1661             4.0  \n",
       "1224             5.0  "
      ]
     },
     "execution_count": 159,
     "metadata": {},
     "output_type": "execute_result"
    }
   ],
   "source": [
    "f2020o.head(5)"
   ]
  },
  {
   "cell_type": "code",
   "execution_count": 161,
   "id": "1e300ea3",
   "metadata": {},
   "outputs": [],
   "source": [
    "posicion=f2020o.loc[max_GDP,'rank_felicidad']"
   ]
  },
  {
   "cell_type": "code",
   "execution_count": 162,
   "id": "8c71e0f8",
   "metadata": {},
   "outputs": [
    {
     "name": "stdout",
     "output_type": "stream",
     "text": [
      "13.0\n"
     ]
    }
   ],
   "source": [
    "print(posicion)"
   ]
  },
  {
   "cell_type": "code",
   "execution_count": 163,
   "id": "df93236a",
   "metadata": {},
   "outputs": [],
   "source": [
    "max_GDP=f2020o['GDP'].idxmax()"
   ]
  },
  {
   "cell_type": "code",
   "execution_count": 164,
   "id": "555f90d2",
   "metadata": {},
   "outputs": [
    {
     "name": "stdout",
     "output_type": "stream",
     "text": [
      "799\n"
     ]
    }
   ],
   "source": [
    "print(max_GDP)"
   ]
  },
  {
   "cell_type": "code",
   "execution_count": 166,
   "id": "74a4f683",
   "metadata": {},
   "outputs": [
    {
     "name": "stdout",
     "output_type": "stream",
     "text": [
      "el país de mayor GDP fue Ireland con la felicidad de 7.035, que ocupa la posición 13.0 del ranking de felicidad\n"
     ]
    }
   ],
   "source": [
    "name_max_GDP_OK=f2020o.loc[max_GDP,'Country name']\n",
    "value_max_GDP_OK=f2020o.loc[max_GDP,'felicidad']\n",
    "posicion=f2020o.loc[max_GDP,'rank_felicidad']\n",
    "print(f\"el país de mayor GDP fue {name_max_GDP_OK} con la felicidad de {value_max_GDP_OK}, que ocupa la posición {posicion} del ranking de felicidad\" )"
   ]
  },
  {
   "cell_type": "code",
   "execution_count": null,
   "id": "eaddcf5c",
   "metadata": {},
   "outputs": [],
   "source": [
    "# ¿En qué porcentaje ha variado a nivel mundial el GDP promedio del 2020 respecto 2021? ¿Aumentó o disminuyó?"
   ]
  },
  {
   "cell_type": "code",
   "execution_count": 169,
   "id": "842b214a",
   "metadata": {},
   "outputs": [],
   "source": [
    "media2021=wh2021['Logged GDP per capita'].mean()"
   ]
  },
  {
   "cell_type": "code",
   "execution_count": 171,
   "id": "d90f6b56",
   "metadata": {},
   "outputs": [
    {
     "name": "stdout",
     "output_type": "stream",
     "text": [
      "9.432208053691276\n"
     ]
    }
   ],
   "source": [
    "print(media2021)"
   ]
  },
  {
   "cell_type": "code",
   "execution_count": 172,
   "id": "5c1fdee4",
   "metadata": {},
   "outputs": [],
   "source": [
    "media2020=f2020['GDP'].mean()"
   ]
  },
  {
   "cell_type": "code",
   "execution_count": 173,
   "id": "dd6fb645",
   "metadata": {},
   "outputs": [
    {
     "name": "stdout",
     "output_type": "stream",
     "text": [
      "9.751329545454544\n"
     ]
    }
   ],
   "source": [
    "print(media2020)"
   ]
  },
  {
   "cell_type": "code",
   "execution_count": 174,
   "id": "85dba5d3",
   "metadata": {},
   "outputs": [],
   "source": [
    "var=(media2021/media2020)-1"
   ]
  },
  {
   "cell_type": "code",
   "execution_count": 179,
   "id": "5ee41c28",
   "metadata": {},
   "outputs": [
    {
     "name": "stdout",
     "output_type": "stream",
     "text": [
      "El nivel mundial de GDP promedio ha variado en un -3.27%\n"
     ]
    }
   ],
   "source": [
    "print(f\"El nivel mundial de GDP promedio ha variado en un {var:.2%}\")"
   ]
  },
  {
   "cell_type": "code",
   "execution_count": null,
   "id": "41896ece",
   "metadata": {},
   "outputs": [],
   "source": [
    "#pregunta 6: ¿Cuál es el país con mayor esperanza de vida y cuál era el valor del indicador en 2019?"
   ]
  },
  {
   "cell_type": "code",
   "execution_count": 180,
   "id": "0e16ac0e",
   "metadata": {},
   "outputs": [],
   "source": [
    "may_esp=wh2021['Healthy life expectancy'].idxmax()"
   ]
  },
  {
   "cell_type": "code",
   "execution_count": 196,
   "id": "92d8951e",
   "metadata": {},
   "outputs": [],
   "source": [
    "pais_esp=wh2021.loc[may_esp,'Country name']"
   ]
  },
  {
   "cell_type": "code",
   "execution_count": 197,
   "id": "8e8562ee",
   "metadata": {},
   "outputs": [
    {
     "name": "stdout",
     "output_type": "stream",
     "text": [
      "Singapore\n"
     ]
    }
   ],
   "source": [
    "print(pais_esp)"
   ]
  },
  {
   "cell_type": "code",
   "execution_count": 198,
   "id": "cee1d594",
   "metadata": {},
   "outputs": [],
   "source": [
    "esp2019sing = whjoin.query(\"`year` == 2019 and `Country name` == 'Singapore'\")"
   ]
  },
  {
   "cell_type": "code",
   "execution_count": 203,
   "id": "9f5f6df9",
   "metadata": {},
   "outputs": [
    {
     "name": "stdout",
     "output_type": "stream",
     "text": [
      "el país de mayor esperanza de vida es Singapore y en 2019 tenía una esperanza de vida de 77.1 años\n"
     ]
    }
   ],
   "source": [
    "print(f\"el país de mayor esperanza de vida es {pais_esp} y en 2019 tenía una esperanza de vida de {esp2019sing[['esperanza']].iloc[0].to_string(index=False)} años\")"
   ]
  },
  {
   "cell_type": "code",
   "execution_count": null,
   "id": "5029c7a4",
   "metadata": {},
   "outputs": [],
   "source": []
  },
  {
   "cell_type": "code",
   "execution_count": null,
   "id": "f0802f4a",
   "metadata": {},
   "outputs": [],
   "source": []
  },
  {
   "cell_type": "code",
   "execution_count": null,
   "id": "4f876599",
   "metadata": {},
   "outputs": [],
   "source": []
  },
  {
   "cell_type": "code",
   "execution_count": null,
   "id": "ad098f22",
   "metadata": {},
   "outputs": [],
   "source": []
  },
  {
   "cell_type": "code",
   "execution_count": null,
   "id": "518328b8",
   "metadata": {},
   "outputs": [],
   "source": []
  },
  {
   "cell_type": "code",
   "execution_count": null,
   "id": "d27eb9e9",
   "metadata": {},
   "outputs": [],
   "source": []
  },
  {
   "cell_type": "code",
   "execution_count": null,
   "id": "6a8eea33",
   "metadata": {},
   "outputs": [],
   "source": []
  },
  {
   "cell_type": "code",
   "execution_count": null,
   "id": "82559abc",
   "metadata": {},
   "outputs": [],
   "source": []
  },
  {
   "cell_type": "code",
   "execution_count": null,
   "id": "dad9c1f7",
   "metadata": {},
   "outputs": [],
   "source": []
  },
  {
   "cell_type": "code",
   "execution_count": null,
   "id": "0875f8a9",
   "metadata": {},
   "outputs": [],
   "source": []
  },
  {
   "cell_type": "code",
   "execution_count": null,
   "id": "402ecd51",
   "metadata": {},
   "outputs": [],
   "source": []
  },
  {
   "cell_type": "code",
   "execution_count": null,
   "id": "3df5b6a5",
   "metadata": {},
   "outputs": [],
   "source": []
  },
  {
   "cell_type": "code",
   "execution_count": null,
   "id": "163aa804",
   "metadata": {},
   "outputs": [],
   "source": []
  },
  {
   "cell_type": "code",
   "execution_count": null,
   "id": "df38de79",
   "metadata": {},
   "outputs": [],
   "source": []
  },
  {
   "cell_type": "code",
   "execution_count": 182,
   "id": "7a281010",
   "metadata": {},
   "outputs": [
    {
     "ename": "NameError",
     "evalue": "name 'pais_esp' is not defined",
     "output_type": "error",
     "traceback": [
      "\u001b[1;31m---------------------------------------------------------------------------\u001b[0m",
      "\u001b[1;31mNameError\u001b[0m                                 Traceback (most recent call last)",
      "Cell \u001b[1;32mIn[182], line 1\u001b[0m\n\u001b[1;32m----> 1\u001b[0m \u001b[38;5;28mprint\u001b[39m(pais_esp)\n",
      "\u001b[1;31mNameError\u001b[0m: name 'pais_esp' is not defined"
     ]
    }
   ],
   "source": [
    "print(pais_esp)"
   ]
  },
  {
   "cell_type": "code",
   "execution_count": null,
   "id": "fd1d5216",
   "metadata": {},
   "outputs": [],
   "source": []
  },
  {
   "cell_type": "code",
   "execution_count": null,
   "id": "57ab2c2d",
   "metadata": {},
   "outputs": [],
   "source": []
  },
  {
   "cell_type": "code",
   "execution_count": null,
   "id": "8da53454",
   "metadata": {},
   "outputs": [],
   "source": []
  },
  {
   "cell_type": "code",
   "execution_count": null,
   "id": "9d469dd4",
   "metadata": {},
   "outputs": [],
   "source": []
  },
  {
   "cell_type": "code",
   "execution_count": null,
   "id": "f54fdd2d",
   "metadata": {},
   "outputs": [],
   "source": []
  },
  {
   "cell_type": "code",
   "execution_count": null,
   "id": "84f9ab40",
   "metadata": {},
   "outputs": [],
   "source": []
  },
  {
   "cell_type": "code",
   "execution_count": null,
   "id": "41c9b3fd",
   "metadata": {},
   "outputs": [],
   "source": []
  },
  {
   "cell_type": "code",
   "execution_count": null,
   "id": "ca7582e4",
   "metadata": {},
   "outputs": [],
   "source": []
  },
  {
   "cell_type": "code",
   "execution_count": null,
   "id": "91803ab2",
   "metadata": {},
   "outputs": [],
   "source": []
  },
  {
   "cell_type": "code",
   "execution_count": null,
   "id": "e34a7303",
   "metadata": {},
   "outputs": [],
   "source": []
  },
  {
   "cell_type": "code",
   "execution_count": null,
   "id": "35f4e2b9",
   "metadata": {},
   "outputs": [],
   "source": []
  },
  {
   "cell_type": "code",
   "execution_count": null,
   "id": "d85f8f56",
   "metadata": {},
   "outputs": [],
   "source": []
  }
 ],
 "metadata": {
  "kernelspec": {
   "display_name": "Python 3 (ipykernel)",
   "language": "python",
   "name": "python3"
  },
  "language_info": {
   "codemirror_mode": {
    "name": "ipython",
    "version": 3
   },
   "file_extension": ".py",
   "mimetype": "text/x-python",
   "name": "python",
   "nbconvert_exporter": "python",
   "pygments_lexer": "ipython3",
   "version": "3.11.3"
  }
 },
 "nbformat": 4,
 "nbformat_minor": 5
}
